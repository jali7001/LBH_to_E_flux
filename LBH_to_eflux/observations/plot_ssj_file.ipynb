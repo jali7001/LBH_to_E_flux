{
 "cells": [
  {
   "cell_type": "markdown",
   "metadata": {},
   "source": [
    "# SSJ Observation Example"
   ]
  },
  {
   "cell_type": "code",
   "execution_count": 1,
   "metadata": {},
   "outputs": [],
   "source": [
    "dmsp = 16\n",
    "hemisphere = 'S'\n",
    "ssj_file = '/home/matsuo/Documents/tomokostuff/SSJcdfs_v2/20140218/dmsp-f16_ssj_precipitating-electrons-ions_20140218_v1.1.3_GLOWcond_v2.cdf'"
   ]
  },
  {
   "cell_type": "code",
   "execution_count": 2,
   "metadata": {},
   "outputs": [],
   "source": [
    "from LBH_to_eflux.observations.ssj import SSJDay\n",
    "import datetime\n",
    "import os\n",
    "import numpy as np\n",
    "from geospacepy.special_datetime import (doyarr2datetime,\n",
    "                                        datetimearr2jd,\n",
    "                                        datetime2jd,\n",
    "                                        jd2datetime,\n",
    "                                        datetime2doy,\n",
    "                                        jdarr2datetime)\n",
    "\n",
    "import matplotlib.pyplot as plt\n",
    "from geospacepy.satplottools import draw_dialplot\n",
    "from matplotlib.gridspec import GridSpec\n"
   ]
  },
  {
   "cell_type": "markdown",
   "metadata": {},
   "source": [
    "Import a day of SSJ data from DMSP F16"
   ]
  },
  {
   "cell_type": "code",
   "execution_count": 3,
   "metadata": {},
   "outputs": [
    {
     "name": "stderr",
     "output_type": "stream",
     "text": [
      "/home/matsuo/amgeo_dev/LBH_to_eflux/LBH_to_eflux/observations/ssj.py:111: RuntimeWarning: invalid value encountered in less_equal\n",
      "  self['ele_diff_energy_flux'][self['ele_diff_energy_flux'] <= 0 | ~np.isfinite(self['ele_diff_energy_flux']) ] = np.nan\n",
      "/home/matsuo/amgeo_dev/LBH_to_eflux/LBH_to_eflux/observations/ssj.py:112: RuntimeWarning: invalid value encountered in less_equal\n",
      "  self['ion_diff_energy_flux'][self['ion_diff_energy_flux'] <= 0 | ~np.isfinite(self['ion_diff_energy_flux']) ] = np.nan\n"
     ]
    }
   ],
   "source": [
    "ssj = SSJDay(16, 'N', ssj_file, read_spec = True )"
   ]
  },
  {
   "cell_type": "code",
   "execution_count": 4,
   "metadata": {},
   "outputs": [
    {
     "name": "stdout",
     "output_type": "stream",
     "text": [
      "lons\n",
      "lats\n",
      "ele_mean_energy\n",
      "ele_mean_energy_uncert\n",
      "ele_total_energy_flux\n",
      "ele_total_energy_flux_uncert\n",
      "ion_total_energy_flux\n",
      "ion_total_energy_flux_uncert\n",
      "ele_diff_energy_flux\n",
      "ion_diff_energy_flux\n",
      "orbit_index\n",
      "epoch\n",
      "jds\n"
     ]
    }
   ],
   "source": [
    "ssj_data = ssj.get_ingest_data()\n",
    "for name in ssj_data:\n",
    "    print(name)"
   ]
  }
 ],
 "metadata": {
  "kernelspec": {
   "display_name": "Python 3",
   "language": "python",
   "name": "python3"
  },
  "language_info": {
   "codemirror_mode": {
    "name": "ipython",
    "version": 3
   },
   "file_extension": ".py",
   "mimetype": "text/x-python",
   "name": "python",
   "nbconvert_exporter": "python",
   "pygments_lexer": "ipython3",
   "version": "3.6.9"
  }
 },
 "nbformat": 4,
 "nbformat_minor": 4
}
